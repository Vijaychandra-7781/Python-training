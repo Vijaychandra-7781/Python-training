{
 "cells": [
  {
   "cell_type": "code",
   "execution_count": 1,
   "id": "e91fedff",
   "metadata": {},
   "outputs": [
    {
     "name": "stdout",
     "output_type": "stream",
     "text": [
      "[155.11001726 176.52850093 180.74927298 181.53009508 158.44436549\n",
      " 157.67105666 176.91154673 173.41506619 174.58651099 176.61899671\n",
      " 181.33463757 169.46559148 185.23586057 160.65681669 159.8221827\n",
      " 177.28728055 164.74768066 182.47434778 153.5410592  183.4976391\n",
      " 172.89829531 177.23632987 157.09925407 165.61647328 168.11678224\n",
      " 167.41341993 159.57883793 165.99384844 185.97405887 149.87614433\n",
      " 180.19045258 184.91593804 177.92502923 170.91933133 170.43224236\n",
      " 178.71258295 175.44214528 185.42659323 185.06176717 185.40557313\n",
      " 194.19401177 174.9667979  172.7039595  158.06425171 149.94235979\n",
      " 172.36740076 155.91765603 160.00425332 160.76479636 187.60193937\n",
      " 185.93257543 164.22127089 171.31831938 176.05852623 155.60318797\n",
      " 178.95221625 158.9082701  169.4857784  178.60256088 165.83743396\n",
      " 163.76628049 197.85243276 173.21248797 152.18756142 174.83625932\n",
      " 169.63513544 165.23113074 171.07345806 183.42156637 150.82665256\n",
      " 175.62012115 178.98974134 168.50936539 162.63950689 171.43270979\n",
      " 173.0673737  162.88121301 169.97160679 180.32946084 175.53533833\n",
      " 182.6261419  159.4573846  173.87016683 167.00327553 151.31908052\n",
      " 187.49359436 170.74837924 178.50966391 174.1570555  166.42868576\n",
      " 170.62010066 180.9772299  166.69074296 188.34818781 155.32094062\n",
      " 172.1949276  171.84189272 174.6286476  167.20945775 146.66501112\n",
      " 191.51942953 170.12100529 176.82102917 181.93805911 175.65464945\n",
      " 191.52828779 170.51199878 155.1226105  169.56167224 192.30891443\n",
      " 159.60823056 171.62363712 156.08529742 184.40896883 170.27140373\n",
      " 165.71289438 158.29704755 175.2323033  176.50338897 162.97575858\n",
      " 171.63207247 149.13423256 169.58937905 176.01325869 180.72840267\n",
      " 156.51915789 160.94706125 172.78082133 180.2615358  145.37728144\n",
      " 169.13170707 165.92308908 162.57432789 190.39483172 148.31649787\n",
      " 180.19995997 185.90321876 169.21413899 154.55383332 175.87277041\n",
      " 155.58448597 148.0128596  164.59758592 157.21640021 160.03208306\n",
      " 168.99776866 162.50455062 181.39779251 181.14200628 172.59310094\n",
      " 186.65952396 176.59179336 170.77215742 180.1604398  172.30547411\n",
      " 151.70918067 144.15752652 176.43029872 163.78419048 181.97321898\n",
      " 141.64313118 164.22289919 158.98614641 169.81851388 162.56872802\n",
      " 177.86023761 162.90109205 164.17747072 173.96758376 181.83001123\n",
      " 169.29814865 152.81456572 167.33136378 176.81653425 163.44564713\n",
      " 172.65463724 176.41390391 171.98606083 182.77111804 172.25371616\n",
      " 183.78659109 172.3841777  148.82260174 158.77115945 151.06421743\n",
      " 172.44553848 183.92069578 189.61688582 156.65885482 157.91908847\n",
      " 159.05863511 170.58594869 162.99704247 187.86841616 176.3137763\n",
      " 169.40896664 177.69470521 153.72912046 157.89174236 171.48849099\n",
      " 152.12954142 173.70787207 170.95980124 165.78169947 199.11770122\n",
      " 180.6033319  183.75303861 178.37156608 190.53147868 171.10607442\n",
      " 171.14999565 165.6600364  174.91895921 177.13754239 153.20006076\n",
      " 169.57186262 165.8679142  184.35510343 174.84375242 180.5336495\n",
      " 166.6546371  181.59370723 165.56019127 161.94230775 172.15151698\n",
      " 150.19000744 151.91062224 158.45772717 182.50201902 180.18413839\n",
      " 170.99005636 172.21199684 169.46184438 170.26984769 146.89296068\n",
      " 164.52840953 164.81015516 150.47791384 175.38483214 173.28847117\n",
      " 174.21308359 163.98855025 171.27783073 164.10718457 159.68479661\n",
      " 165.78718363 154.70802638 174.30919916 168.1299041  178.60127609]\n"
     ]
    }
   ],
   "source": [
    "\"\"\"Histogram\n",
    "A histogram is a graph showing frequency distributions.\n",
    "\n",
    "It is a graph showing the number of observations within each given interval.\n",
    "\n",
    "Example: Say you ask for the height of 250 people, you might end up with a histogram like this:\n",
    "\n",
    "use:\n",
    "\n",
    "The histogram is a popular graphing tool. It is used to summarize discrete or continuous \n",
    "data that are measured on an interval scale.\n",
    "It is often used to illustrate the major features of the distribution of the data in a convenient form.\n",
    "\n",
    "\n",
    "\n",
    "\n",
    "You can read from the histogram that there are approximately:\n",
    "\n",
    "2 people from 140 to 145cm\n",
    "5 people from 145 to 150cm\n",
    "15 people from 151 to 156cm\n",
    "31 people from 157 to 162cm\n",
    "46 people from 163 to 168cm\n",
    "53 people from 168 to 173cm\n",
    "45 people from 173 to 178cm\n",
    "28 people from 179 to 184cm\n",
    "21 people from 185 to 190cm\n",
    "4 people from 190 to 195cm\n",
    "\n",
    "\n",
    "\n",
    "Create Histogram\n",
    "In Matplotlib, we use the hist() function to create histograms.\n",
    "\n",
    "The hist() function will use an array of numbers to create a histogram, the array is sent into the function as an argument.\n",
    "\n",
    "\n",
    "Example\n",
    "A Normal Data Distribution by NumPy:\"\"\"\n",
    "\n",
    "\n",
    "import numpy as np\n",
    "\n",
    "x = np.random.normal(170, 10, 250)\n",
    "\n",
    "print(x)"
   ]
  },
  {
   "cell_type": "code",
   "execution_count": 2,
   "id": "2bd05dce",
   "metadata": {},
   "outputs": [
    {
     "data": {
      "image/png": "[encoded data removed]",
      "text/plain": [
       "<Figure size 432x288 with 1 Axes>"
      ]
     },
     "metadata": {
      "needs_background": "light"
     },
     "output_type": "display_data"
    }
   ],
   "source": [
    "import matplotlib.pyplot as plt\n",
    "import numpy as np\n",
    "\n",
    "x = np.random.normal(170, 10, 250)\n",
    "\n",
    "plt.hist(x)\n",
    "plt.show() "
   ]
  },
  {
   "cell_type": "code",
   "execution_count": null,
   "id": "c85b6048",
   "metadata": {},
   "outputs": [],
   "source": []
  }
 ],
 "metadata": {
  "kernelspec": {
   "display_name": "Python 3",
   "language": "python",
   "name": "python3"
  },
  "language_info": {
   "codemirror_mode": {
    "name": "ipython",
    "version": 3
   },
   "file_extension": ".py",
   "mimetype": "text/x-python",
   "name": "python",
   "nbconvert_exporter": "python",
   "pygments_lexer": "ipython3",
   "version": "3.8.8"
  }
 },
 "nbformat": 4,
 "nbformat_minor": 5
}
